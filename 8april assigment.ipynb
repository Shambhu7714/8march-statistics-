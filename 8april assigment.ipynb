{
 "cells": [
  {
   "attachments": {},
   "cell_type": "markdown",
   "metadata": {},
   "source": [
    "Q1. What is the Probability density function?\n"
   ]
  },
  {
   "attachments": {},
   "cell_type": "markdown",
   "metadata": {},
   "source": [
    "The Probability Density Function(PDF) defines the probability function representing the density of a continuous random variable\n",
    " lying between a specific range of values"
   ]
  },
  {
   "attachments": {},
   "cell_type": "markdown",
   "metadata": {},
   "source": [
    "Q2. What are the types of Probability distribution?\n"
   ]
  },
  {
   "attachments": {},
   "cell_type": "markdown",
   "metadata": {},
   "source": [
    "There are two types of probability distributions:\n",
    "\n",
    "Discrete probability distributions\n",
    "Continuous probability distributions"
   ]
  },
  {
   "attachments": {},
   "cell_type": "markdown",
   "metadata": {},
   "source": [
    "Q3. Write a Python function to calculate the probability density function of a normal distribution with\n",
    "given mean and standard deviation at a given point.\n"
   ]
  },
  {
   "cell_type": "code",
   "execution_count": 1,
   "metadata": {},
   "outputs": [],
   "source": [
    "from scipy.stats import norm\n",
    "import numpy as np"
   ]
  },
  {
   "cell_type": "code",
   "execution_count": 3,
   "metadata": {},
   "outputs": [
    {
     "name": "stdout",
     "output_type": "stream",
     "text": [
      "0.0416709478272834\n"
     ]
    }
   ],
   "source": [
    "\n",
    "data_st = -15\n",
    "data_end = 15\n",
    "data_pnt = 22\n",
    "data = np.linspace(data_st, data_end, data_pnt)\n",
    "\n",
    "mean = np.mean(data)\n",
    "std = np.std(data)\n",
    "\n",
    "probability_pdf = norm.pdf(3, loc=mean, scale=std)\n",
    "print(probability_pdf)\n"
   ]
  },
  {
   "attachments": {},
   "cell_type": "markdown",
   "metadata": {},
   "source": [
    "Q4. What are the properties of Binomial distribution? Give two examples of events where binomial\n",
    "distribution can be applied.\n"
   ]
  },
  {
   "attachments": {},
   "cell_type": "markdown",
   "metadata": {},
   "source": [
    "binomil distribution is appliyed when two coucome is possible one is sucess and other one failer or ture and false , yes and no\n",
    "example:- tossing a coin \n",
    "         2. in a examaniton student is fail or pass"
   ]
  },
  {
   "attachments": {},
   "cell_type": "markdown",
   "metadata": {},
   "source": [
    "Q5. Generate a random sample of size 1000 from a binomial distribution with probability of success 0.4\n",
    "and plot a histogram of the results using matplotlib.\n"
   ]
  },
  {
   "cell_type": "code",
   "execution_count": 6,
   "metadata": {},
   "outputs": [
    {
     "name": "stdout",
     "output_type": "stream",
     "text": [
      "[3 2 2 3 6 4 5 6 5 4 3 1 4 4 5 5 6 2 4 3 4 4 4 3 4 5 3 3 2 3 4 6 5 0 1 1 4\n",
      " 1 4 4 3 3 4 4 4 6 5 3 1 3 3 5 4 3 4 3 9 5 5 5 6 6 4 6 5 2 5 6 5 3 3 6 5 4\n",
      " 2 4 5 7 3 4 3 3 4 2 2 4 4 3 3 2 6 2 4 3 4 6 8 4 8 2 5 2 2 5 4 5 6 6 1 5 7\n",
      " 1 2 5 3 1 3 5 4 4 1 5 5 6 5 3 4 5 3 4 2 3 7 3 3 5 3 6 3 2 1 5 4 3 3 2 5 3\n",
      " 2 5 6 2 5 5 1 5 0 4 5 3 3 5 5 3 5 4 6 1 3 4 3 6 1 5 4 5 3 4 4 2 4 4 8 7 2\n",
      " 4 3 2 2 5 5 4 6 4 4 1 5 4 6 5 3 3 3 3 1 3 5 5 4 4 3 2 5 6 7 6 6 6 2 3 3 5\n",
      " 6 4 2 2 5 3 1 3 4 4 4 2 4 4 4 5 3 5 7 3 1 4 5 2 2 4 4 4 5 2 5 4 5 3 3 4 5\n",
      " 4 1 2 0 5 5 5 5 4 3 2 4 6 5 4 3 4 4 3 3 5 4 2 4 3 5 5 4 3 2 4 3 7 3 3 6 5\n",
      " 7 4 4 2 6 4 3 5 5 5 3 6 6 4 5 4 6 2 5 5 3 4 4 3 5 5 2 3 2 4 5 4 4 3 4 4 1\n",
      " 5 2 3 4 5 3 7 2 6 2 3 6 3 5 5 6 4 3 4 6 4 4 4 5 6 2 4 2 7 4 3 3 4 4 3 6 4\n",
      " 4 2 3 1 4 3 3 5 4 3 5 3 1 2 5 4 4 5 3 3 5 2 5 4 4 6 3 5 6 3 7 7 4 4 5 5 7\n",
      " 6 2 7 5 2 5 3 2 3 6 6 4 4 4 5 7 2 5 4 4 2 3 5 4 4 3 5 7 5 2 2 2 5 4 3 5 1\n",
      " 5 1 2 2 6 3 0 4 5 3 4 2 5 5 3 5 3 7 4 3 4 5 5 7 5 6 4 7 4 4 3 7 7 3 2 2 2\n",
      " 6 0 4 4 3 6 5 4 1 4 6 5 5 4 2 6 4 5 3 5 3 4 2 3 9 6 7 4 4 5 4 7 4 2 3 3 2\n",
      " 5 4 1 4 2 4 5 3 6 3 5 3 5 4 4 6 6 4 3 4 6 5 7 4 4 5 5 5 2 4 3 7 2 6 8 4 4\n",
      " 6 7 2 7 3 4 4 7 3 3 7 4 3 1 6 2 6 5 3 4 0 3 3 5 4 3 3 3 4 4 4 4 5 7 3 4 5\n",
      " 5 4 2 4 3 4 5 5 6 6 3 2 5 5 4 6 5 1 5 5 6 3 3 5 3 4 3 3 9 4 5 4 4 6 4 3 2\n",
      " 3 5 2 5 4 5 5 2 4 3 5 5 6 5 5 4 1 3 6 4 2 5 4 4 6 3 5 7 6 7 5 1 3 3 2 5 7\n",
      " 5 4 5 5 6 3 6 5 2 7 5 0 2 5 6 5 3 4 3 3 3 3 7 4 5 5 3 2 4 5 4 2 2 3 5 3 8\n",
      " 3 3 5 4 5 7 2 5 2 8 4 4 4 5 2 1 4 5 3 7 3 7 6 4 6 6 3 5 7 5 5 6 4 4 7 5 3\n",
      " 4 5 3 1 5 4 4 1 3 4 5 6 6 3 5 6 4 4 6 5 3 2 4 5 6 2 6 4 6 4 3 3 3 2 2 3 2\n",
      " 4 5 2 5 4 7 4 0 2 5 3 8 2 3 6 3 2 4 3 2 4 3 4 7 5 2 4 4 4 5 4 5 4 4 3 4 4\n",
      " 2 5 2 4 5 5 2 3 5 5 5 1 4 2 5 2 2 6 3 3 6 6 7 5 1 4 3 4 3 3 4 5 3 5 4 1 5\n",
      " 6 5 1 6 5 4 5 4 6 3 2 1 3 2 6 4 4 7 6 4 4 4 6 3 5 5 3 5 5 3 6 4 1 3 7 2 2\n",
      " 3 5 4 6 3 6 4 1 7 3 7 3 2 4 3 5 5 6 4 3 7 3 5 1 3 7 4 0 5 5 5 4 6 5 5 2 4\n",
      " 3 2 2 2 3 7 5 2 2 2 8 5 3 3 4 2 2 2 6 3 4 3 3 2 4 3 3 4 2 3 4 4 4 3 6 2 4\n",
      " 5 2 6 2 2 4 2 3 3 6 6 8 6 4 5 6 5 6 4 2 5 4 3 5 2 3 4 5 4 5 5 3 4 6 5 3 5\n",
      " 2]\n"
     ]
    }
   ],
   "source": [
    "from numpy import random\n",
    "\n",
    "x = random.binomial(n=10, p=0.4, size=1000)\n",
    "\n",
    "print(x)"
   ]
  },
  {
   "cell_type": "code",
   "execution_count": 7,
   "metadata": {},
   "outputs": [
    {
     "name": "stderr",
     "output_type": "stream",
     "text": [
      "C:\\Users\\sanja\\AppData\\Local\\Temp\\ipykernel_3312\\2228759954.py:5: UserWarning: \n",
      "\n",
      "`distplot` is a deprecated function and will be removed in seaborn v0.14.0.\n",
      "\n",
      "Please adapt your code to use either `displot` (a figure-level function with\n",
      "similar flexibility) or `histplot` (an axes-level function for histograms).\n",
      "\n",
      "For a guide to updating your code to use the new functions, please see\n",
      "https://gist.github.com/mwaskom/de44147ed2974457ad6372750bbe5751\n",
      "\n",
      "  sns.distplot(random.binomial(n=10, p=0.4, size=1000), hist=True, kde=False)\n"
     ]
    },
    {
     "data": {
      "image/png": "[encoded data removed]",
      "text/plain": [
       "<Figure size 640x480 with 1 Axes>"
      ]
     },
     "metadata": {},
     "output_type": "display_data"
    }
   ],
   "source": [
    "from numpy import random\n",
    "import matplotlib.pyplot as plt\n",
    "import seaborn as sns\n",
    "\n",
    "sns.distplot(random.binomial(n=10, p=0.4, size=1000), hist=True, kde=False)\n",
    "\n",
    "plt.show()"
   ]
  },
  {
   "attachments": {},
   "cell_type": "markdown",
   "metadata": {},
   "source": [
    "Q6. Write a Python function to calculate the cumulative distribution function of a Poisson distribution\n",
    "with given mean at a given point.\n"
   ]
  },
  {
   "cell_type": "code",
   "execution_count": 9,
   "metadata": {},
   "outputs": [
    {
     "data": {
      "text/plain": [
       "[<matplotlib.lines.Line2D at 0x1e884ba97e0>]"
      ]
     },
     "execution_count": 9,
     "metadata": {},
     "output_type": "execute_result"
    },
    {
     "data": {
      "image/png": "[encoded data removed]",
      "text/plain": [
       "<Figure size 640x480 with 1 Axes>"
      ]
     },
     "metadata": {},
     "output_type": "display_data"
    }
   ],
   "source": [
    "import numpy as np\n",
    "import matplotlib.pyplot as plt\n",
    "import pandas as pd\n",
    "%matplotlib inline\n",
    "\n",
    "# No of data points used\n",
    "N = 300\n",
    "\n",
    "# normal distribution\n",
    "data = np.random.randn(N)\n",
    "\n",
    "# sort the data in ascending order\n",
    "x = np.sort(data)\n",
    "\n",
    "# get the cdf values of y\n",
    "y = np.arange(N) / float(N)\n",
    "\n",
    "# plotting\n",
    "plt.xlabel('x-axis')\n",
    "plt.ylabel('y-axis')\n",
    "\n",
    "plt.title('CDF using sorting the data')\n",
    "\n",
    "plt.plot(x, y, marker='o')\n"
   ]
  },
  {
   "attachments": {},
   "cell_type": "markdown",
   "metadata": {},
   "source": [
    "Q7. How Binomial distribution different from Poisson distribution?\n"
   ]
  },
  {
   "attachments": {},
   "cell_type": "markdown",
   "metadata": {},
   "source": [
    "Binomial Distribution\t                                    Poisson Distribution\n",
    "It is biparametric, i.e. it has 2 parameters n and p.\t    It is uniparametric, i.e. it has only 1 parameter m.\n",
    "The number of attempts are fixed.\t                        The number of attempts are unlimited.\n",
    "The probability of success is constant.\t                    The probability of success is extremely small.\n",
    "There are only two possible outcomes-Success or failure.\tThere are unlimited possible outcomes.\n",
    "Mean>Variance\tMean=Variance"
   ]
  },
  {
   "attachments": {},
   "cell_type": "markdown",
   "metadata": {},
   "source": [
    "Q8. Generate a random sample of size 1000 from a Poisson distribution with mean 5 and calculate the\n",
    "sample mean and variance.\n"
   ]
  },
  {
   "cell_type": "code",
   "execution_count": 11,
   "metadata": {},
   "outputs": [
    {
     "name": "stdout",
     "output_type": "stream",
     "text": [
      "Mean: 4.889\n",
      "Variance: 4.974679\n"
     ]
    }
   ],
   "source": [
    "import numpy as np\n",
    "\n",
    "mean = 5\n",
    "sample_size = 1000\n",
    "\n",
    "# Generate random sample\n",
    "sample = np.random.poisson(mean, sample_size)\n",
    "\n",
    "# Calculate sample mean and variance\n",
    "sample_mean = np.mean(sample)\n",
    "sample_variance = np.var(sample)\n",
    "\n",
    "print(\"Mean:\", sample_mean)\n",
    "print(\"Variance:\", sample_variance)\n"
   ]
  },
  {
   "attachments": {},
   "cell_type": "markdown",
   "metadata": {},
   "source": [
    "Q9. How mean and variance are related in Binomial distribution and Poisson distribution?\n"
   ]
  },
  {
   "attachments": {},
   "cell_type": "markdown",
   "metadata": {},
   "source": [
    "In the Poisson distribution, both the mean and variance are equal to the parameter λ (lambda), \n",
    "which represents the average rate of event occurrences in the given interval. Therefore, the mean and variance\n",
    " of a Poisson distribution are always the same, regardless of the specific value of λ.\n",
    "\n",
    " in the Binomial distribution, the variance depends on both the number of trials and the probability of success, whereas in the Poisson distribution, the mean and variance are equal and determined solely by the rate parameter λ."
   ]
  },
  {
   "attachments": {},
   "cell_type": "markdown",
   "metadata": {},
   "source": [
    "Q10. In normal distribution with respect to mean position, where does the least frequent data appear?"
   ]
  },
  {
   "attachments": {},
   "cell_type": "markdown",
   "metadata": {},
   "source": [
    "In a normal distribution, which is a symmetric distribution, the least frequent data points appear in the\n",
    " tails of the distribution, farthest away from the mean. The tails of a normal distribution represent\n",
    "  the extreme values that are less likely to occur."
   ]
  }
 ],
 "metadata": {
  "kernelspec": {
   "display_name": "Python 3",
   "language": "python",
   "name": "python3"
  },
  "language_info": {
   "codemirror_mode": {
    "name": "ipython",
    "version": 3
   },
   "file_extension": ".py",
   "mimetype": "text/x-python",
   "name": "python",
   "nbconvert_exporter": "python",
   "pygments_lexer": "ipython3",
   "version": "3.10.11"
  },
  "orig_nbformat": 4
 },
 "nbformat": 4,
 "nbformat_minor": 2
}
